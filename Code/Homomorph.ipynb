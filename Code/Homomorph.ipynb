{
 "cells": [
  {
   "cell_type": "code",
   "execution_count": 1,
   "metadata": {},
   "outputs": [],
   "source": [
    "from dataclasses import dataclass\n",
    "import numpy as np\n",
    "from Polynomial import Polynomial, PolynomialTensor"
   ]
  },
  {
   "cell_type": "code",
   "execution_count": 2,
   "metadata": {},
   "outputs": [],
   "source": [
    "@dataclass\n",
    "class BfvConfig:\n",
    "    mat_size: tuple[int, int]\n",
    "    poly_len: int\n",
    "    modulus: int\n",
    "    p: int\n",
    "\n",
    "    def __post_init__(self):\n",
    "        self.index_distribution = [(i, j) for i in range(self.mat_size)\n",
    "                                    for j in range(i, self.mat_size) if j > i]\n",
    "\n",
    "\n",
    "@dataclass\n",
    "class BfvSecretKey:\n",
    "    sk: Polynomial\n",
    "\n",
    "\n",
    "@dataclass\n",
    "class BfvPublicKey:\n",
    "    A: Polynomial\n",
    "    b: Polynomial\n",
    "\n",
    "\n",
    "@dataclass\n",
    "class BfvRlk:\n",
    "    ra: PolynomialTensor\n",
    "    rb: PolynomialTensor"
   ]
  },
  {
   "cell_type": "code",
   "execution_count": 3,
   "metadata": {},
   "outputs": [],
   "source": [
    "from functools import reduce\n",
    "from operator import add\n",
    "\n",
    "\n",
    "class BfvEncrypted:\n",
    "\n",
    "    def __init__(self, config: BfvConfig, rlks: list[BfvRlk], u: Polynomial,\n",
    "                 v: Polynomial):\n",
    "        self.config = config\n",
    "        self.u = u\n",
    "        self.v = v\n",
    "        self.rlks = rlks\n",
    "\n",
    "    def __add__(self, other: \"BfvEncrypted\") -> \"BfvEncrypted\":\n",
    "        assert self.config == other.config\n",
    "        return BfvEncrypted(self.config,\n",
    "                            self.rlks,\n",
    "                            u=(self.u + other.u) % self.config.modulus,\n",
    "                            v=(self.v + other.v) % self.config.modulus)\n",
    "\n",
    "    def __mul__(self, other: \"BfvEncrypted\") -> \"BfvEncrypted\":\n",
    "        assert self.config == other.config\n",
    "\n",
    "        def tp(arr: np.ndarray) -> PolynomialTensor:\n",
    "            return PolynomialTensor(arr, self.config.modulus)\n",
    "\n",
    "        d0 = self.v @ other.v\n",
    "        # print(\"d0:\", d0)\n",
    "        d1 = (tp([(tp(self.u.poly_mat[i]) @ tp(other.v.poly_mat)).poly_mat[0]\n",
    "                  for i in range(self.config.mat_size)]) +\n",
    "              tp([(tp(other.u.poly_mat[i]) @ tp(self.v.poly_mat)).poly_mat[0]\n",
    "                  for i in range(self.config.mat_size)]))\n",
    "        # print(\"d1:\", d1)\n",
    "        d2 = (tp([\n",
    "            (tp(self.u.poly_mat[i]) @ tp(other.u.poly_mat[i])).poly_mat[0]\n",
    "            for i in range(self.config.mat_size)\n",
    "        ]))\n",
    "        # print(\"d2:\", d2)\n",
    "\n",
    "        d3 = ([(tp(self.u.poly_mat[i]) @ tp(other.u.poly_mat[j])) +\n",
    "               (tp(self.u.poly_mat[j]) @ tp(other.u.poly_mat[i]))\n",
    "               for i, j in self.config.index_distribution])\n",
    "        # print(\"d3:\", d3)\n",
    "\n",
    "        assert len(d3) == len(self.rlks) - 1\n",
    "\n",
    "        ip = 1 / self.config.p\n",
    "        big_mod = self.config.modulus * self.config.p\n",
    "\n",
    "        v_relin: PolynomialTensor = ip * reduce(\n",
    "            add, [\n",
    "                rlk.rb @ d3i.change_modulus(big_mod)\n",
    "                for d3i, rlk in zip(d3, self.rlks[1:])\n",
    "            ],\n",
    "            d2.change_modulus(big_mod) @ self.rlks[0].rb)\n",
    "\n",
    "        u_relin: PolynomialTensor = ip * reduce(\n",
    "            add, [\n",
    "                rlk.ra @ d3i.change_modulus(big_mod)\n",
    "                for d3i, rlk in zip(d3, self.rlks[1:])\n",
    "            ], self.rlks[0].ra @ d2.change_modulus(big_mod))\n",
    "\n",
    "        return BfvEncrypted(\n",
    "            self.config,\n",
    "            self.rlks,\n",
    "            u=(d1 + u_relin.change_modulus(self.config.modulus)) %\n",
    "            self.config.modulus,\n",
    "            v=(d0 + v_relin.change_modulus(self.config.modulus)) %\n",
    "            self.config.modulus)"
   ]
  },
  {
   "cell_type": "code",
   "execution_count": 4,
   "metadata": {},
   "outputs": [],
   "source": [
    "class BFV:\n",
    "\n",
    "    @staticmethod\n",
    "    def keygen(conf: BfvConfig) -> tuple[BfvSecretKey, BfvPublicKey, BfvRlk]:\n",
    "        # Key Generation\n",
    "        s = PolynomialTensor.random_polynomial_matrix(\n",
    "            conf.poly_len,\n",
    "            conf.modulus,\n",
    "            (conf.mat_size, ),\n",
    "            min_val=-3,\n",
    "            max_value=3,\n",
    "        )\n",
    "        e = PolynomialTensor.random_polynomial_matrix(conf.poly_len,\n",
    "                                                      conf.modulus,\n",
    "                                                      (conf.mat_size, ),\n",
    "                                                      min_val=-3,\n",
    "                                                      max_value=3)\n",
    "        A = PolynomialTensor.random_polynomial_matrix(\n",
    "            conf.poly_len,\n",
    "            conf.modulus, (conf.mat_size, conf.mat_size),\n",
    "            min_val=0,\n",
    "            max_value=conf.modulus)\n",
    "\n",
    "        b = (-1 * (A @ s + e)) % conf.modulus\n",
    "\n",
    "        rs = PolynomialTensor(s.poly_mat, conf.p * conf.modulus)\n",
    "\n",
    "        def _calculate_relin(second_secret: PolynomialTensor) -> BfvRlk:\n",
    "            re = PolynomialTensor.random_polynomial_matrix(\n",
    "                conf.poly_len, conf.p * conf.modulus, (conf.mat_size, ), -3, 3)\n",
    "            ra = PolynomialTensor.random_polynomial_matrix(\n",
    "                conf.poly_len, conf.p * conf.modulus,\n",
    "                (conf.mat_size, conf.mat_size))\n",
    "\n",
    "            rb = (-1 * (ra @ rs + re) + conf.p *\n",
    "                  (second_secret)) % (conf.p * conf.modulus)\n",
    "            return BfvRlk(ra=ra, rb=rb)\n",
    "\n",
    "        relins = [_calculate_relin(rs**2)] + [\n",
    "            _calculate_relin(\n",
    "                PolynomialTensor(rs.poly_mat[i], rs.modulus)\n",
    "                @ PolynomialTensor(rs.poly_mat[j], rs.modulus))\n",
    "            for i, j in conf.index_distribution\n",
    "        ]\n",
    "\n",
    "        return (BfvSecretKey(s), BfvPublicKey(A=A, b=b), relins)\n",
    "\n",
    "    @staticmethod\n",
    "    def encrypt(conf: BfvConfig, pk: BfvPublicKey, rlks: list[BfvRlk],\n",
    "                message: list) -> BfvEncrypted:\n",
    "        assert isinstance(message, list)\n",
    "        e1 = PolynomialTensor.random_polynomial_matrix(conf.poly_len,\n",
    "                                                       conf.modulus, (1, ), -1,\n",
    "                                                       1)\n",
    "        e2 = PolynomialTensor.random_polynomial_matrix(conf.poly_len,\n",
    "                                                       conf.modulus,\n",
    "                                                       (conf.mat_size, ), -1,\n",
    "                                                       1)\n",
    "        r = PolynomialTensor.random_polynomial_matrix(conf.poly_len,\n",
    "                                                      conf.modulus,\n",
    "                                                      (conf.mat_size, ), 0, 1)\n",
    "        dm = Polynomial(\n",
    "            np.asarray([message]) * (conf.modulus // 2), conf.modulus)\n",
    "        v = (pk.b.T @ r + e1 + dm) % conf.modulus\n",
    "        u = (pk.A.T @ r + e2) % conf.modulus\n",
    "\n",
    "        return BfvEncrypted(conf, rlks, u=u, v=v)\n",
    "\n",
    "    @staticmethod\n",
    "    def decrypt(sk: BfvSecretKey, m_enc: BfvEncrypted) -> list:\n",
    "        return (np.round(\n",
    "            ((2 / m_enc.config.modulus) *\n",
    "             ((m_enc.v + m_enc.u @ sk.sk) % m_enc.config.modulus)).poly_mat) %\n",
    "                2).tolist()[0]"
   ]
  },
  {
   "cell_type": "code",
   "execution_count": 23,
   "metadata": {},
   "outputs": [
    {
     "name": "stdout",
     "output_type": "stream",
     "text": [
      "0.0 + 1.0·x + 1.0·x²\n",
      "[0.0, 0.0, 0.0]\n"
     ]
    },
    {
     "ename": "AssertionError",
     "evalue": "",
     "output_type": "error",
     "traceback": [
      "\u001b[0;31m---------------------------------------------------------------------------\u001b[0m",
      "\u001b[0;31mAssertionError\u001b[0m                            Traceback (most recent call last)",
      "Cell \u001b[0;32mIn[23], line 14\u001b[0m\n\u001b[1;32m     12\u001b[0m \u001b[38;5;28mprint\u001b[39m((m1 \u001b[38;5;241m@\u001b[39m m2)\u001b[38;5;241m%\u001b[39m\u001b[38;5;241m2\u001b[39m)\n\u001b[1;32m     13\u001b[0m \u001b[38;5;28mprint\u001b[39m(BFV\u001b[38;5;241m.\u001b[39mdecrypt(sk, m_e1\u001b[38;5;241m*\u001b[39mm_e2))\n\u001b[0;32m---> 14\u001b[0m \u001b[38;5;28;01massert\u001b[39;00m BFV\u001b[38;5;241m.\u001b[39mdecrypt(sk, m_e1\u001b[38;5;241m*\u001b[39mm_e2) \u001b[38;5;241m==\u001b[39m ((m1 \u001b[38;5;241m@\u001b[39m m2)\u001b[38;5;241m%\u001b[39m\u001b[38;5;241m2\u001b[39m)\u001b[38;5;241m.\u001b[39mpoly_mat[\u001b[38;5;241m0\u001b[39m]\u001b[38;5;241m.\u001b[39mtolist()\n",
      "\u001b[0;31mAssertionError\u001b[0m: "
     ]
    }
   ],
   "source": [
    "conf = BfvConfig(mat_size=1, poly_len=3, modulus=100, p=1000**5)\n",
    "sk, pk, rlks = BFV.keygen(conf)\n",
    "\n",
    "m1 = Polynomial.random_polynomial(conf.poly_len, conf.modulus, 0, 1)\n",
    "m_e1 = BFV.encrypt(conf, pk, rlks, m1.poly_mat[0].tolist())\n",
    "\n",
    "m2 = Polynomial.random_polynomial(conf.poly_len, conf.modulus, 0, 1)\n",
    "m_e2 = BFV.encrypt(conf, pk, rlks, m2.poly_mat[0].tolist())\n",
    "# m_e1 = m_e1*m_e2\n",
    "# m1 = (m1 * m2)%2\n",
    "\n",
    "print((m1 @ m2)%2)\n",
    "print(BFV.decrypt(sk, m_e1*m_e2))\n",
    "assert BFV.decrypt(sk, m_e1*m_e2) == ((m1 @ m2)%2).poly_mat[0].tolist()"
   ]
  },
  {
   "cell_type": "code",
   "execution_count": 14,
   "metadata": {},
   "outputs": [
    {
     "name": "stdout",
     "output_type": "stream",
     "text": [
      "Average Operations: 0.18\n"
     ]
    }
   ],
   "source": [
    "conf = BfvConfig(1, 3, 1000, 1000**4)\n",
    "\n",
    "op_count = []\n",
    "for j in range(50):\n",
    "\n",
    "    # Single Test Start\n",
    "    sk, pk, rlks = BFV.keygen(conf)\n",
    "    m1 = Polynomial.random_polynomial(conf.poly_len, conf.modulus, 0, 1)\n",
    "    m_e1 = BFV.encrypt(conf, pk, rlks, m1.poly_mat[0].tolist())\n",
    "    for i in range(10000):\n",
    "        m2 = Polynomial.random_polynomial(conf.poly_len, conf.modulus, 0, 1)\n",
    "        m_e2 = BFV.encrypt(conf, pk, rlks, m2.poly_mat[0].tolist())\n",
    "        m_e1 = m_e1*m_e2\n",
    "        m1 = (m1 @ m2)%2\n",
    "        # assert BFV.decrypt(sk, m_e1) == m1.poly_mat[0].tolist(), f\"{i}: {m1} -- {BFV.decrypt(sk, m_e1)}\"\n",
    "        if BFV.decrypt(sk, m_e1) != m1.poly_mat[0].tolist():\n",
    "            op_count.append(i)\n",
    "            break\n",
    "\n",
    "print(\"Average Operations:\", sum(op_count)/len(op_count))\n"
   ]
  },
  {
   "cell_type": "code",
   "execution_count": null,
   "metadata": {},
   "outputs": [],
   "source": [
    "def tp(arr: np.ndarray)->PolynomialTensor:\n",
    "    return PolynomialTensor(arr, 1000)"
   ]
  },
  {
   "cell_type": "code",
   "execution_count": null,
   "metadata": {},
   "outputs": [
    {
     "data": {
      "text/plain": [
       "array([[978., 503., 510.]])"
      ]
     },
     "execution_count": 59,
     "metadata": {},
     "output_type": "execute_result"
    }
   ],
   "source": [
    "(\n",
    "    # v1*v2\n",
    "    (m_e1.v @ m_e2.v) +\n",
    "    # v1*u2\n",
    "    (m_e1.v @ (\n",
    "        tp(m_e2.u.poly_mat[0]) @ tp(sk.sk.poly_mat[0]) +\n",
    "        tp(m_e2.u.poly_mat[1]) @ tp(sk.sk.poly_mat[1])\n",
    "    )) +\n",
    "    # v2*u1\n",
    "    (m_e2.v @ (\n",
    "        (tp(m_e1.u.poly_mat[0]) @ tp(sk.sk.poly_mat[0])) +\n",
    "        (tp(m_e1.u.poly_mat[1]) @ tp(sk.sk.poly_mat[1]))\n",
    "    )) +\n",
    "    # u1*u2 \n",
    "    (\n",
    "        (\n",
    "            # i=0\n",
    "            (tp(m_e1.u.poly_mat[0]) @ tp(m_e2.u.poly_mat[0]) @ tp(sk.sk.poly_mat[0]) @ tp(sk.sk.poly_mat[0])) +\n",
    "            (tp(m_e1.u.poly_mat[0]) @ tp(m_e2.u.poly_mat[1]) @ tp(sk.sk.poly_mat[0]) @ tp(sk.sk.poly_mat[1]))\n",
    "        ) +\n",
    "        (\n",
    "            # i=1\n",
    "            (tp(m_e1.u.poly_mat[1]) @ tp(m_e2.u.poly_mat[0]) @ tp(sk.sk.poly_mat[1]) @ tp(sk.sk.poly_mat[0])) +\n",
    "            (tp(m_e1.u.poly_mat[1]) @ tp(m_e2.u.poly_mat[1]) @ tp(sk.sk.poly_mat[1]) @ tp(sk.sk.poly_mat[1]))\n",
    "        )\n",
    "\n",
    "    )\n",
    ") % 1000"
   ]
  },
  {
   "cell_type": "code",
   "execution_count": null,
   "metadata": {},
   "outputs": [
    {
     "data": {
      "text/plain": [
       "array([[978., 503., 510.]])"
      ]
     },
     "execution_count": 60,
     "metadata": {},
     "output_type": "execute_result"
    }
   ],
   "source": [
    "(\n",
    "    # d0: just multiply the two scalars\n",
    "    (m_e1.v @ m_e2.v) +\n",
    "    # d1: Just multiply each value in the poly vector with the poly scalar leading two a new poly vector. Do this for both and add them\n",
    "    (\n",
    "        (\n",
    "            (\n",
    "            tp([(tp(m_e2.u.poly_mat[0]) @ tp(m_e1.v.poly_mat)).poly_mat[0],\n",
    "                (tp(m_e2.u.poly_mat[1]) @ tp(m_e1.v.poly_mat)).poly_mat[0]]) +\n",
    "            tp([(tp(m_e1.u.poly_mat[0]) @ tp(m_e2.v.poly_mat)).poly_mat[0],\n",
    "                (tp(m_e1.u.poly_mat[1]) @ tp(m_e2.v.poly_mat)).poly_mat[0]])\n",
    "            )\n",
    "        ) @ sk.sk\n",
    "    ) +\n",
    "    # d2: Just multiply the parts that are on the same index and create a new vector\n",
    "    (\n",
    "        (\n",
    "            tp([(tp(m_e2.u.poly_mat[0]) @ tp(m_e1.u.poly_mat[0])).poly_mat[0],\n",
    "                (tp(m_e2.u.poly_mat[1]) @ tp(m_e1.u.poly_mat[1])).poly_mat[0]])\n",
    "        ) @ sk.sk**2\n",
    "    ) +\n",
    "    # d3\n",
    "    (\n",
    "        (\n",
    "            (tp(m_e1.u.poly_mat[0]) @ tp(m_e2.u.poly_mat[1])) +\n",
    "            (tp(m_e1.u.poly_mat[1]) @ tp(m_e2.u.poly_mat[0]))\n",
    "        ) @ (tp(sk.sk.poly_mat[1]) @ tp(sk.sk.poly_mat[0]))\n",
    "    )\n",
    ") % 1000"
   ]
  },
  {
   "cell_type": "code",
   "execution_count": null,
   "metadata": {},
   "outputs": [
    {
     "name": "stdout",
     "output_type": "stream",
     "text": [
      "d0: array([[-205301.,  523011.,  741215.]])\n",
      "d1: array([[ -598518.,  1253108.,  1423459.],\n",
      "       [-1015110.,    56841.,  1471795.]])\n",
      "d2: array([[-204017.,  999422.,  792219.],\n",
      "       [-737861., -200686.,  413751.]])\n",
      "d3: array([[-943867.,  364828., 1820443.]])\n"
     ]
    }
   ],
   "source": [
    "print(\"d0:\", (m_e1.v @ m_e2.v))\n",
    "print(\"d1:\", (\n",
    "            tp([(tp(m_e2.u.poly_mat[0]) @ tp(m_e1.v.poly_mat)).poly_mat[0],\n",
    "                (tp(m_e2.u.poly_mat[1]) @ tp(m_e1.v.poly_mat)).poly_mat[0]]) +\n",
    "            tp([(tp(m_e1.u.poly_mat[0]) @ tp(m_e2.v.poly_mat)).poly_mat[0],\n",
    "                (tp(m_e1.u.poly_mat[1]) @ tp(m_e2.v.poly_mat)).poly_mat[0]])\n",
    "            ))\n",
    "print(\"d2:\", (\n",
    "            tp([(tp(m_e2.u.poly_mat[0]) @ tp(m_e1.u.poly_mat[0])).poly_mat[0],\n",
    "                (tp(m_e2.u.poly_mat[1]) @ tp(m_e1.u.poly_mat[1])).poly_mat[0]])\n",
    "        ))\n",
    "print(\"d3:\", (\n",
    "            (tp(m_e1.u.poly_mat[0]) @ tp(m_e2.u.poly_mat[1])) +\n",
    "            (tp(m_e1.u.poly_mat[1]) @ tp(m_e2.u.poly_mat[0]))\n",
    "        ))"
   ]
  },
  {
   "cell_type": "code",
   "execution_count": null,
   "metadata": {},
   "outputs": [
    {
     "name": "stdout",
     "output_type": "stream",
     "text": [
      "d0: array([[-205301.,  523011.,  741215.]])\n",
      "d1: array([[ -598518.,  1253108.,  1423459.],\n",
      "       [-1015110.,    56841.,  1471795.]])\n",
      "d2: array([[-204017.,  999422.,  792219.],\n",
      "       [-737861., -200686.,  413751.]])\n",
      "d3: [array([[-943867.,  364828., 1820443.]])]\n"
     ]
    },
    {
     "data": {
      "text/plain": [
       "array([[740., 708., 993.]])"
      ]
     },
     "execution_count": 61,
     "metadata": {},
     "output_type": "execute_result"
    }
   ],
   "source": [
    "mul = (m_e1*m_e2)\n",
    "(mul.v + sk.sk @ mul.u) % mul.config.modulus"
   ]
  },
  {
   "cell_type": "code",
   "execution_count": null,
   "metadata": {},
   "outputs": [],
   "source": []
  }
 ],
 "metadata": {
  "kernelspec": {
   "display_name": "playground-1M7JBZYp-py3.10",
   "language": "python",
   "name": "python3"
  },
  "language_info": {
   "codemirror_mode": {
    "name": "ipython",
    "version": 3
   },
   "file_extension": ".py",
   "mimetype": "text/x-python",
   "name": "python",
   "nbconvert_exporter": "python",
   "pygments_lexer": "ipython3",
   "version": "3.10.12"
  }
 },
 "nbformat": 4,
 "nbformat_minor": 2
}
