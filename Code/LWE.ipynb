{
 "cells": [
  {
   "cell_type": "markdown",
   "metadata": {},
   "source": [
    "# LWE Grundlagen"
   ]
  },
  {
   "cell_type": "markdown",
   "metadata": {},
   "source": [
    "Die Folgenden abschnitte sind zur Beschreibung und einführung in das LWE Problem. Dies ist die Grundlage für verschiedene moderne Verschlüsselungsalgorithmen wie Kyber, aber auch die basis für diverse Homomorphe Algorithmen.\n",
    "\n",
    "Im folgenden werden 3 Arten von LWE beschrieben und implementiert\n",
    "- Learning with Errors (LWE)\n",
    "- Ring-LWE (RLWE)\n",
    "- Module-LWE (MLWE)\n",
    "\n",
    "Das LWE verfahren liefert dabei die Grundlagen auf denen die anderen beiden Aufbauen. Bei RLWE wird das LWE verfahren auf einen Polynom Ring übertragen und bei MLWE wird eine Matrix aus Polynom Ringen benutzt. RLWE ist somit ein Spezialfall von MLWE, bei dem eine 1x1 Matrize verwendet wird."
   ]
  },
  {
   "cell_type": "markdown",
   "metadata": {},
   "source": [
    "Zur Umsetzung von LWE muss zuerst ein Ring der ganzen zahlen modulo eines Faktors $q$ definiert werden, welcher die addition (+) und multiplikation (*) unterstützt Dies wird definiert als \n",
    "$$\\mathbb{Z}_q= \\mathbb{Z}/q\\mathbb{Z}$$\n",
    "Dies ist somit eigentlich nur die Gruppe aller ganzen Zahlen, welche kleiner als $q$ und größer gleich 0 sind. Beispielsweise $\\mathbb{Z}_3 = \\{0,1,2\\}$"
   ]
  },
  {
   "cell_type": "markdown",
   "metadata": {},
   "source": [
    "## LWE"
   ]
  },
  {
   "cell_type": "markdown",
   "metadata": {},
   "source": [
    "Das LWE Problem lässt sich auf folgende Gleichung herunterbrechen: \n",
    "$$A⋅s+e=b$$\n",
    "mit $A \\in \\mathbb{Z}_q^{n\\times m}$, $s \\in \\mathbb{Z}_q^{m}$ welche gleichmäßig aus $\\mathbb{Z}_q$ gezogen werden und $e \\in \\mathbb{Z}_q^n$ entnommen aus der diskreten Gaußverteilung sodass die wahrscheinlichkeit das die Werte kleiner sind als $q/4$ sehr hoch ist (im folgenden $\\chi$). Daraus folgt das $b \\in \\mathbb{Z}_q^{n}$\n",
    "\n",
    "Private key: $s\\leftarrow \\mathbb{Z}_q^{m}$. Dabei entsteht ein vektor mit länge $m$ bei dem alle werte gleichmäßig zufällig aus $\\mathbb{Z}_q$ stammen.\n",
    "\n",
    "Public key:\n",
    "1. erstellen einer Matrix mit gleichmäßig zufälligen werten: \n",
    "$A = \\begin{bmatrix}\n",
    "a_11 & \\cdots  & a_1n\\\\\n",
    "\\vdots  & \\ddots  & \\vdots \\\\\n",
    "a_m1 & \\cdots & a_mn\n",
    "\\end{bmatrix} \\leftarrow \\mathbb{Z}_q^{n \\times m} $\n",
    "2. berechnen des vektors $b$ durch: $b = As+e$ mit $e \\leftarrow \\chi^n $\n",
    "3. der private schlüsse ergibt sich aus den zwei Werten: $P = (A, b)$"
   ]
  },
  {
   "cell_type": "markdown",
   "metadata": {},
   "source": [
    "Zum Verschlüsseln eines binären Wertes $m \\in \\mathbb{Z}_2$ (entspricht den Werten $\\{0, 1\\}$) werden zwei Werte Berechnet:\n",
    "1. $u = A^T \\cdot r + e_1 \\in \\mathbb{Z}_q^m$\n",
    "2. $v = b^T \\cdot r + e_2 + (m*\\left\\lfloor q/2\\right\\rfloor) \\in \\mathbb{Z}_q$\n",
    "\n",
    "Wobei $r \\in \\mathbb{Z}_q^n$ zusätzliche Werte sind um ein zusätzliche Verschleierung zu erzeugen und $e_1 \\in \\chi^m$ und $e_2 \\in \\chi$ sind zusätzliche Fehlerwerte. Durch diese drei werte wird jede Verschlüsselung einzigartig und somit schwerer zu entschlüsseln durch das sammeln vieler verschlüsselter Texte. \n",
    "\n",
    "Somit ergeben sich zwei werte, der Vektor $u$ und der skalar $v$. Die Nachricht wurde dabei auf skaliert sodas $0 \\rightarrow 0$ und $1 \\rightarrow \\left\\lfloor q/2\\right\\rfloor$. Wenn man sich den Ring $\\mathbb{Z}_q$ als Uhr dabei vorstellt (wie es oft für modulo Rechnungen visualisiert wird), dann ist der Nachrichten Wert $0$ nun an der 12Uhr position in der Uhr und der Nachrichten Wert $1$ (ungefähr) an der 6 Uhr Position. Durch die einberechneten Fehler verändert sich der eigentliche Nachrichten Wert um ein kleines bisschen, sodass er quasi mehr in die viertel oder dreiviertel Stellung auf der Uhr zeigt."
   ]
  },
  {
   "cell_type": "markdown",
   "metadata": {},
   "source": [
    "Das entschlüsseln der Nachricht erfolgt mithilfe folgender Gleichung:\n",
    "$$m = \\left\\lfloor \\frac{1}{\\left\\lfloor q/2\\right\\rfloor}*(v-s^T \\cdot u)\\right\\rceil _2 \\in \\{0,1\\}$$\n",
    "$$\n",
    "\\begin{align*}\n",
    "m &= \\left\\lfloor \\frac{1}{\\left\\lfloor q/2\\right\\rfloor}*(v-s^T \\cdot u)\\right\\rceil _2 \\\\\n",
    "  &= \\left\\lfloor \\frac{1}{\\left\\lfloor q/2\\right\\rfloor}*(b^T \\cdot r + e_2 + (m*\\left\\lfloor q/2\\right\\rfloor)-s^T \\cdot (A^T \\cdot r + e_1))\\right\\rceil _2\\\\\n",
    "  &= \\left\\lfloor \\frac{1}{\\left\\lfloor q/2\\right\\rfloor}*((As+e)^T \\cdot r + e_2 + (m*\\left\\lfloor q/2\\right\\rfloor)-s^T A^T \\cdot r - s^T e_1)\\right\\rceil _2\\\\\n",
    "  &= \\left\\lfloor \\frac{1}{\\left\\lfloor q/2\\right\\rfloor}*((As)^T \\cdot r + e^Tr+ e_2 + (m*\\left\\lfloor q/2\\right\\rfloor)-(As)^T \\cdot r - s^T e_1)\\right\\rceil _2\\\\\n",
    "  &= \\left\\lfloor \\frac{1}{\\left\\lfloor q/2\\right\\rfloor}*(e^Tr+ e_2 + (m*\\left\\lfloor q/2\\right\\rfloor)- s^T e_1)\\right\\rceil _2\\\\\n",
    "  &= \\left\\lfloor \\frac{e^Tr}{\\left\\lfloor q/2\\right\\rfloor}+ \\frac{e_2 }{\\left\\lfloor q/2\\right\\rfloor}+ m - \\frac{s^T e_1}{\\left\\lfloor q/2\\right\\rfloor}\\right\\rceil _2\\\\\n",
    "  &= \\left\\lfloor m' \\right\\rceil _2\\\\\n",
    "  &= m\n",
    "\\end{align*}\n",
    "$$\n",
    "\n",
    "Bei den letzten zwei schritten wird davon ausgegangen das die Fehlerwerte nahe null sind und somit nur einen geringen einfluss auf $m$ haben. Dadurch werden diese Werte durch das runden wieder ausgeglichen und die Nachricht kommt am ende zum vorschein, welche noch in ihre ring (modulo 2) angepasst werden muss."
   ]
  },
  {
   "cell_type": "code",
   "execution_count": 19,
   "metadata": {},
   "outputs": [
    {
     "name": "stdout",
     "output_type": "stream",
     "text": [
      "[ 0 49  0  1 49 49  1  1 49 49]\n"
     ]
    }
   ],
   "source": [
    "from scipy.stats import norm\n",
    "import numpy as np\n",
    "\n",
    "def sample_lwe_error(n, q, sigma=1.0):\n",
    "  \"\"\"Samples error vector from an approximated discrete Gaussian distribution.\n",
    "\n",
    "  Args:\n",
    "      n: Dimension of the error vector.\n",
    "      q: Modulus for the ring (positive integer).\n",
    "      sigma: Standard deviation of the Gaussian distribution (default 1.0).\n",
    "\n",
    "  Returns:\n",
    "      A numpy array representing the error vector modulo q.\n",
    "  \"\"\"\n",
    "  # Sample from continuous Gaussian with mean 0 and std dev sigma\n",
    "  return np.round(norm.rvs(loc=0, scale=sigma, size=n)).astype(int) % q \n",
    "\n",
    "# Example usage\n",
    "n = 10\n",
    "q = 50\n",
    "sigma = 1\n",
    "error = sample_lwe_error(n, q, sigma)\n",
    "print(error)"
   ]
  }
 ],
 "metadata": {
  "kernelspec": {
   "display_name": "playground-1M7JBZYp-py3.10",
   "language": "python",
   "name": "python3"
  },
  "language_info": {
   "codemirror_mode": {
    "name": "ipython",
    "version": 3
   },
   "file_extension": ".py",
   "mimetype": "text/x-python",
   "name": "python",
   "nbconvert_exporter": "python",
   "pygments_lexer": "ipython3",
   "version": "3.10.12"
  }
 },
 "nbformat": 4,
 "nbformat_minor": 2
}
