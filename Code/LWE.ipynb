{
 "cells": [
  {
   "cell_type": "markdown",
   "metadata": {},
   "source": [
    "# LWE Grundlagen"
   ]
  },
  {
   "cell_type": "markdown",
   "metadata": {},
   "source": [
    "Die Folgenden abschnitte sind zur Beschreibung und einführung in das LWE Problem. Dies ist die Grundlage für verschiedene moderne Verschlüsselungsalgorithmen wie Kyber, aber auch die basis für diverse Homomorphe Algorithmen.\n",
    "\n",
    "Im folgenden werden 3 Arten von LWE beschrieben und implementiert\n",
    "- Learning with Errors (LWE)\n",
    "- Ring-LWE (RLWE)\n",
    "- Module-LWE (MLWE)\n",
    "\n",
    "Das LWE verfahren liefert dabei die Grundlagen auf denen die anderen beiden Aufbauen. Bei RLWE wird das LWE verfahren auf einen Polynom Ring übertragen und bei MLWE wird eine Matrix aus Polynom Ringen benutzt. RLWE ist somit ein Spezialfall von MLWE, bei dem eine 1x1 Matrize verwendet wird."
   ]
  },
  {
   "cell_type": "markdown",
   "metadata": {},
   "source": [
    "Zur Umsetzung von LWE muss zuerst ein Ring der ganzen zahlen modulo eines Faktors $q$ definiert werden, welcher die addition (+) und multiplikation (*) unterstützt Dies wird definiert als \n",
    "$$\\mathbb{Z}_q= \\mathbb{Z}/q\\mathbb{Z}$$\n",
    "Dies ist somit eigentlich nur die Gruppe aller ganzen Zahlen, welche kleiner als $q$ und größer gleich 0 sind. Beispielsweise $\\mathbb{Z}_3 = \\{0,1,2\\}$"
   ]
  },
  {
   "cell_type": "markdown",
   "metadata": {},
   "source": [
    "## LWE"
   ]
  },
  {
   "cell_type": "markdown",
   "metadata": {},
   "source": [
    "$\\chi \\in \\mathbb{Z}_q$ ist eine diskrete normalverteilung mit werten im Ring\n",
    "\n",
    "Private key: $s\\leftarrow \\chi^{m}$. Dabei entsteht ein vektor mit länge $m$ bei dem alle werte normalverteilt aus $\\mathbb{Z}_q$ stammen.\n",
    "\n",
    "Public key:\n",
    "1. erstellen einer Matrix mit gleichmäßig zufälligen werten: \n",
    "$A = \\begin{bmatrix}\n",
    "a_11 & \\cdots  & a_1n\\\\\n",
    "\\vdots  & \\ddots  & \\vdots \\\\\n",
    "a_m1 & \\cdots & a_mn\n",
    "\\end{bmatrix} \\leftarrow \\mathbb{Z}_q^{n \\times m} $\n",
    "2. berechnen des vektors $b$ durch: $b = As+e \\in \\mathbb{Z}_q^{n}$ mit $e \\leftarrow \\chi^n$ \n",
    "3. der private schlüsse ergibt sich aus den zwei Werten: $P = (A, b)$\n",
    "\n",
    "Zum Verschlüsseln eines binären Wertes $m \\in \\mathbb{Z}_2$ (entspricht den Werten $\\{0, 1\\}$) werden zwei Werte Berechnet:\n",
    "1. $u = A^T \\cdot r + e_1 \\in \\mathbb{Z}_q^m$\n",
    "2. $v = b^T \\cdot r + e_2 + (m*\\left\\lfloor q/2\\right\\rfloor) \\in \\mathbb{Z}_q$\n",
    "\n",
    "Wobei $r \\in \\chi^n$ zusätzliche Werte sind um ein zusätzliche Verschleierung zu erzeugen und $e_1 \\in \\chi^m$ und $e_2 \\in \\chi$ sind zusätzliche Fehlerwerte. Durch diese drei werte wird jede Verschlüsselung einzigartig und somit schwerer zu entschlüsseln durch das sammeln vieler verschlüsselter Texte. \n",
    "\n",
    "Somit ergeben sich zwei werte, der Vektor $u$ und der skalar $v$. Die Nachricht wurde dabei auf skaliert sodas $0 \\rightarrow 0$ und $1 \\rightarrow \\left\\lfloor q/2\\right\\rfloor$. Wenn man sich den Ring $\\mathbb{Z}_q$ als Uhr dabei vorstellt (wie es oft für modulo Rechnungen visualisiert wird), dann ist der Nachrichten Wert $0$ nun an der 12Uhr position in der Uhr und der Nachrichten Wert $1$ (ungefähr) an der 6 Uhr Position. Durch die einberechneten Fehler verändert sich der eigentliche Nachrichten Wert um ein kleines bisschen, sodass er quasi mehr in die viertel oder dreiviertel Stellung auf der Uhr zeigt.\n",
    "\n",
    "Das entschlüsseln der Nachricht erfolgt mithilfe folgender Gleichung:\n",
    "$$\n",
    "\\begin{align*}\n",
    "m &= \\left\\lfloor \\frac{1}{\\left\\lfloor q/2\\right\\rfloor}*(v-s^T \\cdot u)\\right\\rceil _2 \\\\\n",
    "  &= \\left\\lfloor \\frac{1}{\\left\\lfloor q/2\\right\\rfloor}*(b^T \\cdot r + e_2 + (m*\\left\\lfloor q/2\\right\\rfloor)-s^T \\cdot (A^T \\cdot r + e_1))\\right\\rceil _2\\\\\n",
    "  &= \\left\\lfloor \\frac{1}{\\left\\lfloor q/2\\right\\rfloor}*((As+e)^T \\cdot r + e_2 + (m*\\left\\lfloor q/2\\right\\rfloor)-s^T A^T \\cdot r - s^T e_1)\\right\\rceil _2\\\\\n",
    "  &= \\left\\lfloor \\frac{1}{\\left\\lfloor q/2\\right\\rfloor}*((As)^T \\cdot r + e^Tr+ e_2 + (m*\\left\\lfloor q/2\\right\\rfloor)-(As)^T \\cdot r - s^T e_1)\\right\\rceil _2\\\\\n",
    "  &= \\left\\lfloor \\frac{1}{\\left\\lfloor q/2\\right\\rfloor}*(e^Tr+ e_2 + (m*\\left\\lfloor q/2\\right\\rfloor)- s^T e_1)\\right\\rceil _2\\\\\n",
    "  &= \\left\\lfloor \\frac{e^Tr}{\\left\\lfloor q/2\\right\\rfloor}+ \\frac{e_2 }{\\left\\lfloor q/2\\right\\rfloor}+ m - \\frac{s^T e_1}{\\left\\lfloor q/2\\right\\rfloor}\\right\\rceil _2\\\\\n",
    "  &= \\left\\lfloor m' \\right\\rceil _2\\\\\n",
    "  &= m \\in \\{0,1\\}\n",
    "\\end{align*}\n",
    "$$\n",
    "\n",
    "Bei den letzten zwei schritten wird davon ausgegangen das die Fehlerwerte nahe null sind und somit nur einen geringen einfluss auf $m$ haben. Dadurch werden diese Werte durch das runden wieder ausgeglichen und die Nachricht kommt am ende zum vorschein, welche noch in ihre ring (modulo 2) angepasst werden muss.\n",
    "\n",
    "Damit dies funktioniert muss: $e^Tr+ e_2 - s^T e_1 < q/4$ sein. Der Fehlerterm muss somit kleiner als ein viertel q sein. Dies lässt sich erneut leicht über das Uhren beispiel erklären. Da die Zeiger am Ende auf die volle bzw halbe Stunde gerundet werden, dürfen die Zeiger nicht über die viertel oder dreiviertel stunde wander, da ansonsten zur falschen stelle gerundet wird. Dies Bewegung entspricht jeweils eine viertel Umdrehung um $q$. Somit darf der Fehlerterm nicht größer als $q/4$ sein. Aus diesem Grund muss darauf geachtet werden das $s, e, e_1, e_2, r$ nicht zu groß sind, damit dies eingehalten werden kann, weshalb diese Werte aus der Normalverteilung herausgezogen werden und nicht uniform aus $\\mathbb{Z}_q$"
   ]
  },
  {
   "cell_type": "markdown",
   "metadata": {},
   "source": [
    "### Beispiel Rechnung\n",
    "\n",
    "Um die etwas abstrakten Rechnungen einfacher verständlich zu machen folgt hier eine Beispiel Rechnung.\n",
    "Zuerst werden die Parameter definiert\n",
    "$$\n",
    "\\begin{align*}\n",
    "q &= 100 \\\\\n",
    "n &= 2 \\\\\n",
    "m &= 2 \\\\\n",
    "\\end{align*}\n",
    "$$\n",
    "\n",
    "Die Schlüsselgenerierung (KeyGen)\n",
    "$$\n",
    "s = \\begin{bmatrix}1 \\\\ 2 \\end{bmatrix}\n",
    "A = \\begin{bmatrix}56 & 77 \\\\ 29 & 59 \\end{bmatrix}\n",
    "e = \\begin{bmatrix}99 \\\\ 1 \\end{bmatrix} \\\\\n",
    "\\begin{align*}\n",
    "\\\\\n",
    "b &= As+e \\\\\n",
    "  &= \\begin{bmatrix}56 & 77 \\\\ 29 & 59 \\end{bmatrix}\\cdot \\begin{bmatrix}1 \\\\ 2 \\end{bmatrix} &+\\begin{bmatrix}99 \\\\ 1 \\end{bmatrix}\\\\\n",
    "  &= 1 \\cdot \\begin{bmatrix}56 \\\\ 29 \\end{bmatrix} + 2 \\cdot \\begin{bmatrix}77 \\\\ 59 \\end{bmatrix} &+ \\begin{bmatrix}99 \\\\ 1 \\end{bmatrix} \\\\\n",
    "  &= \\begin{bmatrix}309 \\\\ 148 \\end{bmatrix}_q \\\\\n",
    "  &= \\begin{bmatrix}9 \\\\ 48 \\end{bmatrix} \\\\\n",
    "\\\\\n",
    "Sk &= s \\\\\n",
    "Pk &= (A, b) \\\\\n",
    "   &= (\\begin{bmatrix}56 & 77 \\\\ 29 & 59 \\end{bmatrix}, \\begin{bmatrix}9 \\\\ 48 \\end{bmatrix}) \\\\\n",
    "\\end{align*}\n",
    "$$\n",
    "\n",
    "Verschlüsselung der Nachricht $m=1$\n",
    "$$\n",
    "r = \\begin{bmatrix}0 \\\\ 2 \\end{bmatrix} \n",
    "e_1 = \\begin{bmatrix}2 \\\\ 0 \\end{bmatrix} \n",
    "e_2 = 99 \\\\\n",
    "\\begin{align*}\n",
    "\\\\\n",
    "u &= A^T \\cdot r + e_1 \\\\\n",
    "  &= \\begin{bmatrix}56 & 77 \\\\ 29 & 59 \\end{bmatrix}^T \\cdot \\begin{bmatrix}0 \\\\ 2 \\end{bmatrix} &+ \\begin{bmatrix}2 \\\\ 0 \\end{bmatrix} \\\\\n",
    "  &= \\begin{bmatrix}56 & 29 \\\\ 77 & 59 \\end{bmatrix} \\cdot \\begin{bmatrix}0 \\\\ 2 \\end{bmatrix} &+ \\begin{bmatrix}2 \\\\ 0 \\end{bmatrix} \\\\\n",
    "  &= 0\\cdot \\begin{bmatrix}56 \\\\ 77 \\end{bmatrix} + 2 \\cdot \\begin{bmatrix}29 \\\\ 59 \\end{bmatrix} &+ \\begin{bmatrix}2 \\\\ 0 \\end{bmatrix} \\\\\n",
    "  &= \\begin{bmatrix}60 \\\\ 118 \\end{bmatrix}_q \\\\\n",
    "  &= \\begin{bmatrix}60 \\\\ 18 \\end{bmatrix} \\\\\n",
    "\\\\\n",
    "v &= b^T \\cdot r + e_2 + (m*\\left\\lfloor q/2\\right\\rfloor) \\\\\n",
    "  &= \\begin{bmatrix}9 \\\\ 48 \\end{bmatrix}^T \\cdot \\begin{bmatrix}0 \\\\ 2 \\end{bmatrix} + 99 + 1 \\cdot \\left\\lfloor 100/2\\right\\rfloor \\\\\n",
    "  &= \\begin{bmatrix}9 & 48 \\end{bmatrix} \\cdot \\begin{bmatrix}0 \\\\ 2 \\end{bmatrix} + 99 + 50 \\\\\n",
    "  &= 9 \\cdot 0 +48 \\cdot 2 + 99 + 50 \\\\\n",
    "  &= 245_q \\\\\n",
    "  &= 45 \\\\\n",
    "\\end{align*}\n",
    "\n",
    "C = (u, v)\n",
    "$$\n",
    "\n",
    "Entschlüssel der verschlüsselten Nachricht $C$\n",
    "$$\n",
    "\\begin{align*}\n",
    "m &= \\left\\lfloor \\frac{1}{\\left\\lfloor q/2\\right\\rfloor} *(v-s^T \\cdot u)\\right\\rceil _2 \\\\\n",
    "  &= \\left\\lfloor \\frac{1}{\\left\\lfloor 100/2\\right\\rfloor} * (45-\\begin{bmatrix}1 \\\\ 2 \\end{bmatrix}^T \\cdot \\begin{bmatrix}60 \\\\ 18 \\end{bmatrix})\\right\\rceil _2 \\\\\n",
    "  &= \\left\\lfloor \\frac{1}{50} * (45-\\begin{bmatrix}1 & 2 \\end{bmatrix} \\cdot \\begin{bmatrix}60 \\\\ 18 \\end{bmatrix})\\right\\rceil _2 \\\\\n",
    "  &= \\left\\lfloor \\frac{1}{50} * (45-(60 \\cdot 1 + 18 \\cdot 2))\\right\\rceil _2 \\\\\n",
    "  &= \\left\\lfloor \\frac{1}{50} * (-33)_q\\right\\rceil _2 \\\\\n",
    "  &= \\left\\lfloor \\frac{1}{50} * 67\\right\\rceil _2 \\\\\n",
    "  &= \\left\\lfloor \\frac{67}{50}\\right\\rceil _2 \\\\\n",
    "  &= 1 \\\\\n",
    "\\end{align*}\n",
    "$$\n",
    "\n",
    "Somit konnte die Originale Nachricht wiederhergestellt werden"
   ]
  },
  {
   "cell_type": "markdown",
   "metadata": {},
   "source": [
    "### Beispiel Code"
   ]
  },
  {
   "cell_type": "code",
   "execution_count": 9,
   "metadata": {},
   "outputs": [
    {
     "name": "stdout",
     "output_type": "stream",
     "text": [
      "Secret Key: [99 98]\n",
      "Private Key:\n",
      "      A=[[64 69]\n",
      " [46 27]],\n",
      "      b=[97  1]\n",
      "Generated with error: [99  1]\n"
     ]
    }
   ],
   "source": [
    "import numpy as np\n",
    "from numpy.random import randint, normal\n",
    "\n",
    "def sample_small(n, q, sigma=1.0):\n",
    "  \"\"\"Samples small vector from an approximated discrete Gaussian distribution.\n",
    "  \"\"\"\n",
    "  # Sample from continuous Gaussian with mean 0 and std dev sigma\n",
    "  error = np.round(normal(loc=0, scale=sigma, size=n)).astype(int) % q \n",
    "\n",
    "  # if its the zero vector, try again\n",
    "  if sum(error) == 0:\n",
    "    return sample_small(n, q, sigma)\n",
    "  return error\n",
    "\n",
    "# Parameters\n",
    "modulus = 100\n",
    "t = 2 # The message ring\n",
    "q_half = np.floor(modulus/2)\n",
    "m_p = 2\n",
    "m_p = 2\n",
    "\n",
    "# Creating Privat and Secret Key\n",
    "s = sample_small(m_p, modulus)\n",
    "A = randint(0, modulus, (m_p, m_p))\n",
    "e = sample_small(m_p, modulus)\n",
    "b = (A@s+e) % modulus\n",
    "\n",
    "print(f\"\"\"Secret Key: {s}\n",
    "Private Key:\n",
    "      A={A},\n",
    "      b={b}\n",
    "Generated with error: {e}\"\"\")"
   ]
  },
  {
   "cell_type": "code",
   "execution_count": 10,
   "metadata": {},
   "outputs": [
    {
     "name": "stdout",
     "output_type": "stream",
     "text": [
      "Encrypting message: 1\n",
      "using:\n",
      "    r=[99 99],\n",
      "    e1=[ 1 99]\n",
      "    e2=[99]\n",
      "Resulting in:\n",
      "    u=[91  3]\n",
      "    v=[51.]\n",
      "\n",
      "Decrypts into message: [1.]\n"
     ]
    }
   ],
   "source": [
    "message = randint(0, t) # random 0 or 1 as message\n",
    "r = sample_small(m_p, modulus)\n",
    "e1 = sample_small(m_p, modulus)\n",
    "e2 = sample_small(1, modulus)\n",
    "u = (A.T@r+e1) % modulus\n",
    "v = (b.T@r+e2+message*q_half) % modulus\n",
    "\n",
    "print(f\"\"\"Encrypting message: {message}\n",
    "using:\n",
    "    r={r},\n",
    "    e1={e1}\n",
    "    e2={e2}\n",
    "Resulting in:\n",
    "    u={u}\n",
    "    v={v}\n",
    "\"\"\")\n",
    "decrypt = np.round((1/q_half)*((v-(s.T@u)) % modulus)) % t\n",
    "print(f\"\"\"Decrypts into message: {decrypt}\"\"\")"
   ]
  },
  {
   "cell_type": "markdown",
   "metadata": {},
   "source": [
    "## Ring-LWE"
   ]
  },
  {
   "cell_type": "markdown",
   "metadata": {},
   "source": [
    "Der oben beschriebene Algorithmus soll nun abgewandelt werden, sodass anstatt mit Matrixmultiplikation zu rechnen, ein Polynom-Ring verwendet wird. Dieser wird definiert als \n",
    "$$R_q = \\mathbb{Z}_q[x]/f$$\n",
    "\n",
    "Somit werden die einzelnen Variablen nun aus diesem Ring entnommen."
   ]
  },
  {
   "cell_type": "markdown",
   "metadata": {},
   "source": [
    "### Beispiel\n",
    "Als erstes muss dafür eine Polynomfunktion definiert werden. Häufig wird dabei $f = X^n+1$ verwendet. Somit ensteht der Polynomring\n",
    "$$R_q = \\mathbb{Z}_q[x]/(X^n+1)$$\n",
    "$n$ entspricht dabei dem maximalen Grad des Polynoms.\n",
    "\n",
    "Wie auch beim ersten mal müssen wir nun die parameter definieren:\n",
    "$$\n",
    "\\begin{align*}\n",
    "q &= 100 \\\\\n",
    "f &= X^n+1 \\\\\n",
    "n &= 3\n",
    "\\end{align*}\n",
    "$$\n",
    "\n",
    "Bei der Schlüsselerstellung werden wie auch schon beim Plain-LWE, die Parameter von $s, e$ als kleine Werte aus der diskreten normalverteilung gezogen und $A$ aus dem kompletten Ring:\n",
    "$$\n",
    "\\begin{align*}\n",
    "s &= 1 + 0x + 1x^2 \\\\\n",
    "A &= 28 + 56x + 1x^2 \\\\\n",
    "e &= 1 + 99x + 2x^2\\\\\n",
    "\\\\\n",
    "b &= As + e \\\\\n",
    "  &= (28 + 56x + 1x^2)*(1 + 0x + 1x^2) + (1 + 99x + 2x^2) \\\\\n",
    "  &= (28 + 28x^2) + (56x + 56x^3) + (1x^2 + 1x^4) + (1 + 99x + 2x^2) \\\\\n",
    "  &= 29 + 155x + 31x^2 + 56x^3 + 1x^4 \\mod f\\\\\n",
    "  &= 29 + 155x + 31x^2 - 56 - 1x  \\\\\n",
    "  &= -27 + 154x + 31x^2  \\mod q\\\\\n",
    "  &= 73 + 54x + 31x^2\n",
    "\\end{align*}\n",
    "$$\n",
    "\n",
    "Der Vorteil beim Verschlüsseln mithilfe von R-LWE ist, das eine Nachricht in Länge des Polynoms verschlüsselt werden kann. Als nächstes soll die Nachricht $m = (1, 1, 0)$ verschlüsselt werden. Zuerst werden die benötigten Parameter initialisiert:\n",
    "\n",
    "$$\n",
    "\\begin{align*}\n",
    "r=99 + 99x + 2x^2,\n",
    "e_1=98 + 0x + 98x^2\n",
    "e_2=1 + 0x + 0x^2\n",
    "m = (1, 1, 0) = 1+ 1x+ 0x^2\n",
    "\\end{align*}\n",
    "$$\n",
    "\n",
    "Anschließend flogt die Berechnung von $u, v$.\n",
    "$$\n",
    "\\begin{align*}\n",
    "u &= A \\cdot r + e_1 \\\\\n",
    "  &= (28 + 56x + 1x^2)*(99 + 99x + 2x^2) + (98 + 0x + 98x^2) \\\\\n",
    "  &= (2772 + 8316x + 5699x^2 + 211x^3 + 2x^4) + (98 + 0x + 98x^2) \\\\\n",
    "  &= 2870 + 8316x + 5797x^2 + 211x^3 + 2x^4 \\mod f \\\\\n",
    "  &= 2870 + 8316x + 5797x^2 - 211 - 2x \\\\\n",
    "  &= 2659 + 8314x + 5797x^2 \\mod q \\\\\n",
    "  &= 59 + 14x + 97x^2 \\\\\n",
    "\\\\\n",
    "v &= b \\cdot r + e_2 + (m*\\left\\lfloor q/2\\right\\rfloor) \\\\\n",
    "  &= (73 + 54x + 31x^2) * (99 + 99x + 2x^2) + (1 + 0x + 0x^2) +  (1+ 1x+ 0x^2)*(100/2) \\\\\n",
    "  &= (7227 + 12573x + 8561x^2 + 3177x^3 + 62x^4) + (1 + 0x + 0x^2) +  (50+ 50x+ 0x^2) \\\\\n",
    "  &= 7278 + 12623x + 8561x^2 + 3177x^3 + 62x^4 \\mod f \\\\\n",
    "  &= 7278 + 12623x + 8561x^2 - 3177 - 62x \\\\\n",
    "  &= 4101 + 12561x + 8561x^2 \\mod q \\\\\n",
    "  &= 1 + 61x + 61x^2  \n",
    "\\end{align*}\n",
    "$$\n",
    "\n",
    "Zum entschlüsseln kann man dann die selbe Formel wie vorher verwendet:\n",
    "\n",
    "$$\n",
    "\\begin{align*}\n",
    "m &= \\left\\lfloor \\frac{1}{\\left\\lfloor q/2\\right\\rfloor}*(v-s^T \\cdot u)\\right\\rceil _2 \\\\\n",
    "  &= \\left\\lfloor \\frac{1}{\\left\\lfloor 100/2\\right\\rfloor}*((1 + 61x + 61x^2 )- (1 + 0x + 1x^2) \\cdot (59 + 14x + 97x^2))\\right\\rceil _2 \\\\\n",
    "  &= \\left\\lfloor \\frac{1}{50}*((1 + 61x + 61x^2 )- (59 + 14x + 156x^2 + 14.0x^3 + 97x^4))\\right\\rceil _2 \\\\\n",
    "  &= \\left\\lfloor \\frac{1}{50}*(-58 + 47x - 95x^2 - 14x^3 - 97x^4)\\right\\rceil _2 \\mod f \\\\\n",
    "  &= \\left\\lfloor \\frac{1}{50}*(-58 + 47x - 95x^2 + 14 + 97x)\\right\\rceil _2  \\\\\n",
    "  &= \\left\\lfloor \\frac{1}{50}*(-44 + 144x - 95x^2)\\right\\rceil _2 \\mod q \\\\\n",
    "  &= \\left\\lfloor \\frac{1}{50}*(56 + 44x + 5x^2)\\right\\rceil _2 \\\\\n",
    "  &= \\left\\lfloor 1.12 + 0.88x + 0.1x^2\\right\\rceil _2 \\\\\n",
    "  &= 1 + 1x + 0x^2 \\\\\n",
    "\\end{align*}\n",
    "$$\n",
    "\n",
    "Und daraus lässt sich die originale Nachricht auslesen $m' = 1 + 1x + 0x^2 \\Rightarrow (1, 1, 0) $"
   ]
  },
  {
   "cell_type": "markdown",
   "metadata": {},
   "source": [
    "### Code"
   ]
  },
  {
   "cell_type": "code",
   "execution_count": 11,
   "metadata": {},
   "outputs": [],
   "source": [
    "from functools import partial\n",
    "from numpy.polynomial import Polynomial\n",
    "from numpy.random import randint, normal\n",
    "import numpy as np\n",
    "\n",
    "def polymod(a: Polynomial, f: Polynomial, q:int)->Polynomial:\n",
    "    return Polynomial((a%f).coef%q)\n",
    "\n",
    "def polymul(a: Polynomial,b: Polynomial, f:Polynomial, q: int)->Polynomial:\n",
    "    return polymod(a*b, f, q)\n",
    "\n",
    "def polyadd(a:Polynomial,b:Polynomial,f:Polynomial,q:int)->Polynomial:\n",
    "    return polymod(a+b, f, q)\n",
    "\n",
    "def sample_small_poly(n, q, sigma=1.0)->Polynomial:\n",
    "  \"\"\"Samples small vector from an approximated discrete Gaussian distribution.\n",
    "  \"\"\"\n",
    "  # Sample from continuous Gaussian with mean 0 and std dev sigma\n",
    "  error = np.round(normal(loc=0, scale=sigma, size=n)).astype(int) % q \n",
    "\n",
    "  # if its the zero vector, try again\n",
    "  if sum(error) == 0:\n",
    "    return sample_small_poly(n, q, sigma)\n",
    "  return Polynomial(error)\n"
   ]
  },
  {
   "cell_type": "code",
   "execution_count": 12,
   "metadata": {},
   "outputs": [
    {
     "name": "stdout",
     "output_type": "stream",
     "text": [
      "Secret Key: 0.0 + 0.0·x + 99.0·x²\n",
      "Private Key:\n",
      "      A=31.0 + 15.0·x + 93.0·x²,\n",
      "      b=14.0 + 92.0·x + 70.0·x²\n",
      "Generated with error: 99.0 + 99.0·x + 1.0·x²\n"
     ]
    }
   ],
   "source": [
    "modulus = 100\n",
    "q_half = np.floor(modulus/2)\n",
    "t = 2\n",
    "m_p = 3\n",
    "f = Polynomial([1]+[0]*(m_p-1)+[1])\n",
    "\n",
    "pmul = partial(polymul, f=f, q=modulus)\n",
    "padd = partial(polyadd, f=f, q=modulus)\n",
    "\n",
    "s = sample_small_poly(m_p, modulus)\n",
    "A = Polynomial(randint(0, modulus, m_p))\n",
    "e = sample_small_poly(m_p, modulus)\n",
    "b = padd(pmul(A, s), e)\n",
    "\n",
    "print(f\"\"\"Secret Key: {s}\n",
    "Private Key:\n",
    "      A={A},\n",
    "      b={b}\n",
    "Generated with error: {e}\"\"\")"
   ]
  },
  {
   "cell_type": "code",
   "execution_count": 13,
   "metadata": {},
   "outputs": [
    {
     "name": "stdout",
     "output_type": "stream",
     "text": [
      "Encrypting message: [0 0 0]\n",
      "using:\n",
      "    r=1.0 + 2.0·x + 99.0·x²,\n",
      "    e1=0.0 + 99.0·x + 99.0·x²\n",
      "    e2=99.0 + 1.0·x + 1.0·x²\n",
      "Resulting in:\n",
      "    u=60.0 + 69.0·x + 91.0·x²\n",
      "    v=65.0 + 91.0·x + 41.0·x²\n",
      "\n",
      "Decrypts into message: [0. 0. 0.]\n"
     ]
    }
   ],
   "source": [
    "message = randint(0, t, m_p) # random 0 or 1 as message\n",
    "r = sample_small_poly(m_p, modulus)\n",
    "e1 = sample_small_poly(m_p, modulus)\n",
    "e2 = sample_small_poly(m_p, modulus)\n",
    "\n",
    "u = padd(pmul(A, r), e1)\n",
    "v = padd(padd(pmul(b, r), e2), message*q_half)\n",
    "\n",
    "print(f\"\"\"Encrypting message: {message}\n",
    "using:\n",
    "    r={r},\n",
    "    e1={e1}\n",
    "    e2={e2}\n",
    "Resulting in:\n",
    "    u={u}\n",
    "    v={v}\n",
    "\"\"\")\n",
    "\n",
    "decrypt = np.round((1/q_half * padd(v,-pmul(s, u)).coef)) % t\n",
    "print(f\"\"\"Decrypts into message: {decrypt}\"\"\")"
   ]
  },
  {
   "cell_type": "markdown",
   "metadata": {},
   "source": [
    "## M-LWE"
   ]
  },
  {
   "cell_type": "markdown",
   "metadata": {},
   "source": [
    "### Code"
   ]
  },
  {
   "cell_type": "code",
   "execution_count": 58,
   "metadata": {},
   "outputs": [],
   "source": [
    "import numpy as np\n",
    "from numpy.random import randint, normal\n",
    "from scipy.linalg import circulant\n",
    "\n",
    "\n",
    "class ModuleMat:\n",
    "\n",
    "    def __init__(self, poly: np.ndarray, modulus: int):\n",
    "        self.poly = poly\n",
    "        self.modulus = modulus\n",
    "\n",
    "    @property\n",
    "    def shape(self):\n",
    "        return self.poly.shape[:-1], self.poly.shape[-1]\n",
    "\n",
    "    def transpose(self) -> \"ModuleMat\":\n",
    "        return ModuleMat(np.transpose(self.poly, (1, 0, 2)),\n",
    "                         self.modulus) if self.poly.ndim == 3 else self\n",
    "\n",
    "    @property\n",
    "    def T(self) -> \"ModuleMat\":\n",
    "        return self.transpose()\n",
    "\n",
    "    @staticmethod\n",
    "    def random_polynomial(\n",
    "        poly_len: int,\n",
    "        modulus: int,\n",
    "        min_val: int = 0,\n",
    "        max_value: int = None,\n",
    "        shape: tuple = ()) -> \"ModuleMat\":\n",
    "        \"\"\"\n",
    "        Generate an random polynomial of shape in the ring R^{rows x cols}_{modulus} with values\n",
    "        evenly retrieved from min_val to max_val\n",
    "        \"\"\"\n",
    "        if max_value is None:\n",
    "            max_value = modulus\n",
    "        assert all([s > 0 for s in shape]) and poly_len > 0\n",
    "        return ModuleMat(randint(min_val, max_value, (*shape, poly_len)) % modulus,\n",
    "                         modulus)\n",
    "\n",
    "    def __repr__(self) -> str:\n",
    "        return repr(self.poly)\n",
    "\n",
    "    def __add__(self, other: \"ModuleMat\") -> \"ModuleMat\":\n",
    "        assert self.shape == other.shape and self.modulus == other.modulus\n",
    "        return ModuleMat((self.poly + other.poly) % self.modulus, self.modulus)\n",
    "\n",
    "    def __sub__(self, other: \"ModuleMat\") -> \"ModuleMat\":\n",
    "        assert self.shape == other.shape and self.modulus == other.modulus\n",
    "        return ModuleMat((self.poly - other.poly) % self.modulus, self.modulus)\n",
    "\n",
    "    def _generate_multiplication_matrix(self, polys: np.ndarray) -> np.ndarray:\n",
    "        assert polys.ndim > 1, \"Not Implemented Error\"\n",
    "        if polys.ndim == 2:\n",
    "            rows = 1\n",
    "            cols = polys.shape[0]\n",
    "        else:\n",
    "            rows, cols = polys.shape[0:2]\n",
    "        blocks = [\n",
    "            circulant(vec) * ((np.tri(polys.shape[-1]) * 2) - 1)\n",
    "            for vec in polys.reshape(-1, (polys.shape[-1]))\n",
    "        ]\n",
    "        return np.vstack(\n",
    "            [np.hstack(blocks[i * cols:(i + 1) * cols]) for i in range(rows)])\n",
    "\n",
    "    def __matmul__(self, other: \"ModuleMat\") -> \"ModuleMat\":\n",
    "        assert self.shape[1] == other.shape[1] and self.modulus == other.modulus\n",
    "        assert self.modulus == other.modulus\n",
    "        end_shape = (1, self.shape[1]) if self.poly.ndim == 2 else (\n",
    "            self.poly.shape[0], self.shape[1])\n",
    "        \n",
    "        mm = self._generate_multiplication_matrix(self.poly)\n",
    "        return ModuleMat(\n",
    "            (mm  @ other.poly.flatten()).reshape(end_shape) % self.modulus,\n",
    "            self.modulus)\n"
   ]
  },
  {
   "cell_type": "code",
   "execution_count": 59,
   "metadata": {},
   "outputs": [],
   "source": [
    "poly1 = ModuleMat.random_polynomial(3, 100, shape=(2,))\n",
    "poly2 = ModuleMat.random_polynomial(3, 100, shape=(2,))"
   ]
  },
  {
   "cell_type": "code",
   "execution_count": 60,
   "metadata": {},
   "outputs": [
    {
     "name": "stdout",
     "output_type": "stream",
     "text": [
      "array([[55, 74, 67],\n",
      "       [90, 80, 10]])\n",
      "array([[65, 11, 55],\n",
      "       [53, 75, 67]])\n",
      "---\n"
     ]
    },
    {
     "data": {
      "text/plain": [
       "array([[28., 50., 54.]])"
      ]
     },
     "execution_count": 60,
     "metadata": {},
     "output_type": "execute_result"
    }
   ],
   "source": [
    "print(poly1)\n",
    "print(poly2)\n",
    "print(\"---\")\n",
    "poly1 @ poly2"
   ]
  },
  {
   "cell_type": "code",
   "execution_count": 145,
   "metadata": {},
   "outputs": [],
   "source": [
    "poly_len = 256\n",
    "modulus = 3000\n",
    "rows = 3\n",
    "cols = 3"
   ]
  },
  {
   "cell_type": "code",
   "execution_count": 146,
   "metadata": {},
   "outputs": [],
   "source": [
    "s = ModuleMat.random_polynomial(poly_len, modulus, min_val=-3, max_value=3, shape=(rows,))\n",
    "A = ModuleMat.random_polynomial(poly_len, modulus, min_val=0, max_value=modulus, shape=(rows, cols))\n",
    "e = ModuleMat.random_polynomial(poly_len, modulus, min_val=-3, max_value=3, shape=(cols,))\n",
    "\n",
    "b = A @ s + e\n",
    "pk = (A, b)"
   ]
  },
  {
   "cell_type": "code",
   "execution_count": 147,
   "metadata": {},
   "outputs": [],
   "source": [
    "m = np.asarray([randint(0,2, poly_len)])\n",
    "m_p = ModuleMat(m*(modulus//2), modulus)\n",
    "\n",
    "r = ModuleMat.random_polynomial(poly_len, modulus, min_val=-3, max_value=3, shape=(rows,))\n",
    "e1 = ModuleMat.random_polynomial(poly_len, modulus, min_val=-3, max_value=3, shape=(cols,))\n",
    "e2 = ModuleMat.random_polynomial(poly_len, modulus, min_val=-3, max_value=3, shape=(1,))\n",
    "\n",
    "u = (A.T @ r) + e1\n",
    "v = b.T @ r + e2 + m_p\n"
   ]
  },
  {
   "cell_type": "code",
   "execution_count": 148,
   "metadata": {},
   "outputs": [],
   "source": [
    "m_d = np.rint((v - (s.T @ u)).poly * (1/(modulus//2))) % 2"
   ]
  },
  {
   "cell_type": "code",
   "execution_count": 149,
   "metadata": {},
   "outputs": [],
   "source": [
    "assert all(m_d.astype(int)[0] == m[0])"
   ]
  },
  {
   "cell_type": "code",
   "execution_count": null,
   "metadata": {},
   "outputs": [],
   "source": []
  }
 ],
 "metadata": {
  "kernelspec": {
   "display_name": "playground-1M7JBZYp-py3.10",
   "language": "python",
   "name": "python3"
  },
  "language_info": {
   "codemirror_mode": {
    "name": "ipython",
    "version": 3
   },
   "file_extension": ".py",
   "mimetype": "text/x-python",
   "name": "python",
   "nbconvert_exporter": "python",
   "pygments_lexer": "ipython3",
   "version": "3.10.12"
  }
 },
 "nbformat": 4,
 "nbformat_minor": 2
}
