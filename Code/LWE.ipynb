{
 "cells": [
  {
   "cell_type": "markdown",
   "metadata": {},
   "source": [
    "# LWE Grundlagen"
   ]
  },
  {
   "cell_type": "markdown",
   "metadata": {},
   "source": [
    "Die Folgenden abschnitte sind zur Beschreibung und einführung in das LWE Problem. Dies ist die Grundlage für verschiedene moderne Verschlüsselungsalgorithmen wie Kyber, aber auch die basis für diverse Homomorphe Algorithmen.\n",
    "\n",
    "Im folgenden werden 3 Arten von LWE beschrieben und implementiert\n",
    "- Learning with Errors (LWE)\n",
    "- Ring-LWE (RLWE)\n",
    "- Module-LWE (MLWE)\n",
    "\n",
    "Das LWE verfahren liefert dabei die Grundlagen auf denen die anderen beiden Aufbauen. Bei RLWE wird das LWE verfahren auf einen Polynom Ring übertragen und bei MLWE wird eine Matrix aus Polynom Ringen benutzt. RLWE ist somit ein Spezialfall von MLWE, bei dem eine 1x1 Matrize verwendet wird."
   ]
  },
  {
   "cell_type": "markdown",
   "metadata": {},
   "source": [
    "Zur Umsetzung von LWE muss zuerst ein Ring der ganzen zahlen modulo eines Faktors $q$ definiert werden, welcher die addition (+) und multiplikation (*) unterstützt Dies wird definiert als \n",
    "$$\\mathbb{Z}_q= \\mathbb{Z}/q\\mathbb{Z}$$\n",
    "Dies ist somit eigentlich nur die Gruppe aller ganzen Zahlen, welche kleiner als $q$ und größer gleich 0 sind. Beispielsweise $\\mathbb{Z}_3 = \\{0,1,2\\}$"
   ]
  },
  {
   "cell_type": "markdown",
   "metadata": {},
   "source": [
    "## LWE"
   ]
  },
  {
   "cell_type": "markdown",
   "metadata": {},
   "source": [
    "$\\chi \\in \\mathbb{Z}_q$ ist eine diskrete normalverteilung mit werten im Ring\n",
    "\n",
    "Private key: $s\\leftarrow \\chi^{m}$. Dabei entsteht ein vektor mit länge $m$ bei dem alle werte normalverteilt aus $\\mathbb{Z}_q$ stammen.\n",
    "\n",
    "Public key:\n",
    "1. erstellen einer Matrix mit gleichmäßig zufälligen werten: \n",
    "$A = \\begin{bmatrix}\n",
    "a_11 & \\cdots  & a_1n\\\\\n",
    "\\vdots  & \\ddots  & \\vdots \\\\\n",
    "a_m1 & \\cdots & a_mn\n",
    "\\end{bmatrix} \\leftarrow \\mathbb{Z}_q^{n \\times m} $\n",
    "2. berechnen des vektors $b$ durch: $b = As+e \\in \\mathbb{Z}_q^{n}$ mit $e \\leftarrow \\chi^n$ \n",
    "3. der private schlüsse ergibt sich aus den zwei Werten: $P = (A, b)$\n",
    "\n",
    "Zum Verschlüsseln eines binären Wertes $m \\in \\mathbb{Z}_2$ (entspricht den Werten $\\{0, 1\\}$) werden zwei Werte Berechnet:\n",
    "1. $u = A^T \\cdot r + e_1 \\in \\mathbb{Z}_q^m$\n",
    "2. $v = b^T \\cdot r + e_2 + (m*\\left\\lfloor q/2\\right\\rfloor) \\in \\mathbb{Z}_q$\n",
    "\n",
    "Wobei $r \\in \\chi^n$ zusätzliche Werte sind um ein zusätzliche Verschleierung zu erzeugen und $e_1 \\in \\chi^m$ und $e_2 \\in \\chi$ sind zusätzliche Fehlerwerte. Durch diese drei werte wird jede Verschlüsselung einzigartig und somit schwerer zu entschlüsseln durch das sammeln vieler verschlüsselter Texte. \n",
    "\n",
    "Somit ergeben sich zwei werte, der Vektor $u$ und der skalar $v$. Die Nachricht wurde dabei auf skaliert sodas $0 \\rightarrow 0$ und $1 \\rightarrow \\left\\lfloor q/2\\right\\rfloor$. Wenn man sich den Ring $\\mathbb{Z}_q$ als Uhr dabei vorstellt (wie es oft für modulo Rechnungen visualisiert wird), dann ist der Nachrichten Wert $0$ nun an der 12Uhr position in der Uhr und der Nachrichten Wert $1$ (ungefähr) an der 6 Uhr Position. Durch die einberechneten Fehler verändert sich der eigentliche Nachrichten Wert um ein kleines bisschen, sodass er quasi mehr in die viertel oder dreiviertel Stellung auf der Uhr zeigt.\n",
    "\n",
    "Das entschlüsseln der Nachricht erfolgt mithilfe folgender Gleichung:\n",
    "$$\n",
    "\\begin{align*}\n",
    "m &= \\left\\lfloor \\frac{1}{\\left\\lfloor q/2\\right\\rfloor}*(v-s^T \\cdot u)\\right\\rceil _2 \\\\\n",
    "  &= \\left\\lfloor \\frac{1}{\\left\\lfloor q/2\\right\\rfloor}*(b^T \\cdot r + e_2 + (m*\\left\\lfloor q/2\\right\\rfloor)-s^T \\cdot (A^T \\cdot r + e_1))\\right\\rceil _2\\\\\n",
    "  &= \\left\\lfloor \\frac{1}{\\left\\lfloor q/2\\right\\rfloor}*((As+e)^T \\cdot r + e_2 + (m*\\left\\lfloor q/2\\right\\rfloor)-s^T A^T \\cdot r - s^T e_1)\\right\\rceil _2\\\\\n",
    "  &= \\left\\lfloor \\frac{1}{\\left\\lfloor q/2\\right\\rfloor}*((As)^T \\cdot r + e^Tr+ e_2 + (m*\\left\\lfloor q/2\\right\\rfloor)-(As)^T \\cdot r - s^T e_1)\\right\\rceil _2\\\\\n",
    "  &= \\left\\lfloor \\frac{1}{\\left\\lfloor q/2\\right\\rfloor}*(e^Tr+ e_2 + (m*\\left\\lfloor q/2\\right\\rfloor)- s^T e_1)\\right\\rceil _2\\\\\n",
    "  &= \\left\\lfloor \\frac{e^Tr}{\\left\\lfloor q/2\\right\\rfloor}+ \\frac{e_2 }{\\left\\lfloor q/2\\right\\rfloor}+ m - \\frac{s^T e_1}{\\left\\lfloor q/2\\right\\rfloor}\\right\\rceil _2\\\\\n",
    "  &= \\left\\lfloor m' \\right\\rceil _2\\\\\n",
    "  &= m \\in \\{0,1\\}\n",
    "\\end{align*}\n",
    "$$\n",
    "\n",
    "Bei den letzten zwei schritten wird davon ausgegangen das die Fehlerwerte nahe null sind und somit nur einen geringen einfluss auf $m$ haben. Dadurch werden diese Werte durch das runden wieder ausgeglichen und die Nachricht kommt am ende zum vorschein, welche noch in ihre ring (modulo 2) angepasst werden muss.\n",
    "\n",
    "Damit dies funktioniert muss: $e^Tr+ e_2 - s^T e_1 < q/4$ sein. Der Fehlerterm muss somit kleiner als ein viertel q sein. Dies lässt sich erneut leicht über das Uhren beispiel erklären. Da die Zeiger am Ende auf die volle bzw halbe Stunde gerundet werden, dürfen die Zeiger nicht über die viertel oder dreiviertel stunde wander, da ansonsten zur falschen stelle gerundet wird. Dies Bewegung entspricht jeweils eine viertel Umdrehung um $q$. Somit darf der Fehlerterm nicht größer als $q/4$ sein. Aus diesem Grund muss darauf geachtet werden das $s, e, e_1, e_2, r$ nicht zu groß sind, damit dies eingehalten werden kann, weshalb diese Werte aus der Normalverteilung herausgezogen werden und nicht uniform aus $\\mathbb{Z}_q$"
   ]
  },
  {
   "cell_type": "markdown",
   "metadata": {},
   "source": [
    "### Beispiel Rechnung\n",
    "\n",
    "Um die etwas abstrakten Rechnungen einfacher verständlich zu machen folgt hier eine Beispiel Rechnung.\n",
    "Zuerst werden die Parameter definiert\n",
    "$$\n",
    "\\begin{align*}\n",
    "q &= 100 \\\\\n",
    "n &= 2 \\\\\n",
    "m &= 2 \\\\\n",
    "\\end{align*}\n",
    "$$\n",
    "\n",
    "Die Schlüsselgenerierung (KeyGen)\n",
    "$$\n",
    "s = \\begin{bmatrix}1 \\\\ 2 \\end{bmatrix}\n",
    "A = \\begin{bmatrix}56 & 77 \\\\ 29 & 59 \\end{bmatrix}\n",
    "e = \\begin{bmatrix}99 \\\\ 1 \\end{bmatrix} \\\\\n",
    "\\begin{align*}\n",
    "\\\\\n",
    "b &= As+e \\\\\n",
    "  &= \\begin{bmatrix}56 & 77 \\\\ 29 & 59 \\end{bmatrix}\\cdot \\begin{bmatrix}1 \\\\ 2 \\end{bmatrix} &+\\begin{bmatrix}99 \\\\ 1 \\end{bmatrix}\\\\\n",
    "  &= 1 \\cdot \\begin{bmatrix}56 \\\\ 29 \\end{bmatrix} + 2 \\cdot \\begin{bmatrix}77 \\\\ 59 \\end{bmatrix} &+ \\begin{bmatrix}99 \\\\ 1 \\end{bmatrix} \\\\\n",
    "  &= \\begin{bmatrix}309 \\\\ 148 \\end{bmatrix}_q \\\\\n",
    "  &= \\begin{bmatrix}9 \\\\ 48 \\end{bmatrix} \\\\\n",
    "\\\\\n",
    "Sk &= s \\\\\n",
    "Pk &= (A, b) \\\\\n",
    "   &= (\\begin{bmatrix}56 & 77 \\\\ 29 & 59 \\end{bmatrix}, \\begin{bmatrix}9 \\\\ 48 \\end{bmatrix}) \\\\\n",
    "\\end{align*}\n",
    "$$\n",
    "\n",
    "Verschlüsselung der Nachricht $m=1$\n",
    "$$\n",
    "r = \\begin{bmatrix}0 \\\\ 2 \\end{bmatrix} \n",
    "e_1 = \\begin{bmatrix}2 \\\\ 0 \\end{bmatrix} \n",
    "e_2 = 99 \\\\\n",
    "\\begin{align*}\n",
    "\\\\\n",
    "u &= A^T \\cdot r + e_1 \\\\\n",
    "  &= \\begin{bmatrix}56 & 77 \\\\ 29 & 59 \\end{bmatrix}^T \\cdot \\begin{bmatrix}0 \\\\ 2 \\end{bmatrix} &+ \\begin{bmatrix}2 \\\\ 0 \\end{bmatrix} \\\\\n",
    "  &= \\begin{bmatrix}56 & 29 \\\\ 77 & 59 \\end{bmatrix} \\cdot \\begin{bmatrix}0 \\\\ 2 \\end{bmatrix} &+ \\begin{bmatrix}2 \\\\ 0 \\end{bmatrix} \\\\\n",
    "  &= 0\\cdot \\begin{bmatrix}56 \\\\ 77 \\end{bmatrix} + 2 \\cdot \\begin{bmatrix}29 \\\\ 59 \\end{bmatrix} &+ \\begin{bmatrix}2 \\\\ 0 \\end{bmatrix} \\\\\n",
    "  &= \\begin{bmatrix}60 \\\\ 118 \\end{bmatrix}_q \\\\\n",
    "  &= \\begin{bmatrix}60 \\\\ 18 \\end{bmatrix} \\\\\n",
    "\\\\\n",
    "v &= b^T \\cdot r + e_2 + (m*\\left\\lfloor q/2\\right\\rfloor) \\\\\n",
    "  &= \\begin{bmatrix}9 \\\\ 48 \\end{bmatrix}^T \\cdot \\begin{bmatrix}0 \\\\ 2 \\end{bmatrix} + 99 + 1 \\cdot \\left\\lfloor 100/2\\right\\rfloor \\\\\n",
    "  &= \\begin{bmatrix}9 & 48 \\end{bmatrix} \\cdot \\begin{bmatrix}0 \\\\ 2 \\end{bmatrix} + 99 + 50 \\\\\n",
    "  &= 9 \\cdot 0 +48 \\cdot 2 + 99 + 50 \\\\\n",
    "  &= 245_q \\\\\n",
    "  &= 45 \\\\\n",
    "\\end{align*}\n",
    "\n",
    "C = (u, v)\n",
    "$$\n",
    "\n",
    "Entschlüssel der verschlüsselten Nachricht $C$\n",
    "$$\n",
    "\\begin{align*}\n",
    "m &= \\left\\lfloor \\frac{1}{\\left\\lfloor q/2\\right\\rfloor} *(v-s^T \\cdot u)\\right\\rceil _2 \\\\\n",
    "  &= \\left\\lfloor \\frac{1}{\\left\\lfloor 100/2\\right\\rfloor} * (45-\\begin{bmatrix}1 \\\\ 2 \\end{bmatrix}^T \\cdot \\begin{bmatrix}60 \\\\ 18 \\end{bmatrix})\\right\\rceil _2 \\\\\n",
    "  &= \\left\\lfloor \\frac{1}{50} * (45-\\begin{bmatrix}1 & 2 \\end{bmatrix} \\cdot \\begin{bmatrix}60 \\\\ 18 \\end{bmatrix})\\right\\rceil _2 \\\\\n",
    "  &= \\left\\lfloor \\frac{1}{50} * (45-(60 \\cdot 1 + 18 \\cdot 2))\\right\\rceil _2 \\\\\n",
    "  &= \\left\\lfloor \\frac{1}{50} * (-33)_q\\right\\rceil _2 \\\\\n",
    "  &= \\left\\lfloor \\frac{1}{50} * 67\\right\\rceil _2 \\\\\n",
    "  &= \\left\\lfloor \\frac{67}{50}\\right\\rceil _2 \\\\\n",
    "  &= 1 \\\\\n",
    "\\end{align*}\n",
    "$$\n",
    "\n",
    "Somit konnte die Originale Nachricht wiederhergestellt werden"
   ]
  },
  {
   "cell_type": "markdown",
   "metadata": {},
   "source": [
    "### Beispiel Code"
   ]
  },
  {
   "cell_type": "code",
   "execution_count": 426,
   "metadata": {},
   "outputs": [
    {
     "name": "stdout",
     "output_type": "stream",
     "text": [
      "Secret Key: [1 2]\n",
      "Private Key:\n",
      "      A=[[56 77]\n",
      " [29 59]],\n",
      "      b=[ 9 48]\n",
      "Generated with error: [99  1]\n"
     ]
    }
   ],
   "source": [
    "import numpy as np\n",
    "from numpy.random import randint, normal\n",
    "\n",
    "def sample_error(n, q, sigma=1.0):\n",
    "  \"\"\"Samples error vector from an approximated discrete Gaussian distribution.\n",
    "  \"\"\"\n",
    "  # Sample from continuous Gaussian with mean 0 and std dev sigma\n",
    "  error = np.round(normal(loc=0, scale=sigma, size=n)).astype(int) % q \n",
    "\n",
    "  # if its the zero vector, try again\n",
    "  if sum(error) == 0:\n",
    "    return sample_error(n, q, sigma)\n",
    "  return error\n",
    "\n",
    "# Parameters\n",
    "q = 100\n",
    "t = 2 # The message ring\n",
    "q_half = np.floor(q/2)\n",
    "n = 2\n",
    "m = 2\n",
    "\n",
    "# Creating Privat and Secret Key\n",
    "s = sample_error(m, q)\n",
    "A = randint(0, q, (n, m))\n",
    "e = sample_error(n, q)\n",
    "b = (A@s+e) % q\n",
    "\n",
    "print(f\"\"\"Secret Key: {s}\n",
    "Private Key:\n",
    "      A={A},\n",
    "      b={b}\n",
    "Generated with error: {e}\"\"\")"
   ]
  },
  {
   "cell_type": "code",
   "execution_count": 427,
   "metadata": {},
   "outputs": [
    {
     "name": "stdout",
     "output_type": "stream",
     "text": [
      "Encrypting message: 1\n",
      "using:\n",
      "    r=[0 2],\n",
      "    e1=[2 0]\n",
      "    e2=[99]\n",
      "Resulting in:\n",
      "    u=[60 18]\n",
      "    v=[45.]\n",
      "\n",
      "Decrypts into message: [1.]\n"
     ]
    }
   ],
   "source": [
    "message = randint(0, t) # random 0 or 1 as message\n",
    "r = sample_error(n, q)\n",
    "e1 = sample_error(m, q)\n",
    "e2 = sample_error(1, q)\n",
    "u = (A.T@r+e1) % q\n",
    "v = (b.T@r+e2+message*q_half) % q\n",
    "\n",
    "print(f\"\"\"Encrypting message: {message}\n",
    "using:\n",
    "    r={r},\n",
    "    e1={e1}\n",
    "    e2={e2}\n",
    "Resulting in:\n",
    "    u={u}\n",
    "    v={v}\n",
    "\"\"\")\n",
    "decrypt = np.round((1/q_half)*((v-(s.T@u)) % q)) % t\n",
    "print(f\"\"\"Decrypts into message: {decrypt}\"\"\")"
   ]
  },
  {
   "cell_type": "code",
   "execution_count": null,
   "metadata": {},
   "outputs": [],
   "source": []
  }
 ],
 "metadata": {
  "kernelspec": {
   "display_name": "playground-1M7JBZYp-py3.10",
   "language": "python",
   "name": "python3"
  },
  "language_info": {
   "codemirror_mode": {
    "name": "ipython",
    "version": 3
   },
   "file_extension": ".py",
   "mimetype": "text/x-python",
   "name": "python",
   "nbconvert_exporter": "python",
   "pygments_lexer": "ipython3",
   "version": "3.10.12"
  }
 },
 "nbformat": 4,
 "nbformat_minor": 2
}
